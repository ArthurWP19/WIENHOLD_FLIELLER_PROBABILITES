{
 "cells": [
  {
   "cell_type": "markdown",
   "metadata": {},
   "source": [
    "# Partie théorique"
   ]
  },
  {
   "cell_type": "markdown",
   "metadata": {},
   "source": [
    "### Question 1"
   ]
  },
  {
   "cell_type": "markdown",
   "metadata": {},
   "source": [
    "On a pour projet d'approcher $L^* $ l'espérance conditionnelle de la longueur du cable comme la moyenne de K simulations conditionnelles de cette même longueur, avec K un grand nombre: $L* \\simeq \\frac{1}{K}\\sum_{i=1}^n l_{(i)}$\n",
    "\\\n",
    "Cette approimation est possible, et justifiée par la loi faible des grands nombres, sachant que les différentes longeurs simulées sont indépendantes et suivront la même loi. L'expression ci-dessus de $L^*$ converge donc bien quand K tend vers l'infini (K suffisement grand) vers l'esperance conditionelle de $L$"
   ]
  },
  {
   "cell_type": "markdown",
   "metadata": {},
   "source": [
    "### Question 2"
   ]
  },
  {
   "cell_type": "markdown",
   "metadata": {},
   "source": [
    "Nous savons que le vecteur des profondeurs aux points de discrétisation sont la réalisation d'un vecteur aléatoire gaussien $Z$. Nous supposons connaître des profondeurs à des sites d'observations, et nous souhaitons connaître les composantes correspondantes de $Z$ au points de discrétisations non observés.\n",
    "\\ \n",
    "Pour ce faire, quitte à réordonner l'ordre des abscisses des points de discrétisation, nous écrivons $Z = (X,Y)$ avec $X = (z(x_1),...,z(x_k))$ les profondeurs inconnues (en supposant $0<k<n$) et $Y = (z(x_{k+1}),..., z(x_n)) = y$ les profondeurs observées.\n",
    "\\\n",
    "Puis, nous nous référons aux résultats des pages 12-13 du chapitre Probabilité IV sur les lois et espérances conditionnelles de vecteurs gaussiens à densité. \n",
    "\\\n",
    "En notant $\\sum = \\begin{pmatrix}\\sum_X & \\sum_{X,Y} \\\\ \\sum_{Y,X} & \\sum_Y \\end{pmatrix}$, et $\\mu = (\\mu,..., \\mu) = (\\mu_X, \\mu_Y)$, on sait que le vecteur aléatoire $X\\vert Y$ suit une loi gaussienne d'espérance $\\mu_{X\\vert Y=y} = \\mu_X - \\sum_{X,Y}\\sum_Y^{-1}(y - \\mu_Y)$ et de matrice de covariance $C_X = \\sum_X - \\sum_{X,Y}\\sum_Y^{-1}\\sum_{Y,X}$"
   ]
  },
  {
   "cell_type": "markdown",
   "metadata": {},
   "source": [
    "### Question 3"
   ]
  },
  {
   "cell_type": "markdown",
   "metadata": {},
   "source": [
    "\n",
    "Soit $Y = (Y_1,..., Y_p)$ un vecteur de composantes gaussiennes centrées réduites indépendantes. $Z = m + RY$ avec $R = (r_{i,j})_{0\\leq i,j \\leq p}$,  et m un vecteur de taille $p$.\n",
    "\n",
    "$\\bf{Important}$: Nous avons effectué une démonstration mathématique ci dessous qui nous semble juste, cependant, dans les simulations informatiques de la deuxième partie, ses résultats sont à prori faux (cf question 9), par rapport à une méthode qui consisterait simplement à simuler un vecteur de variables aléatoires gaussiennes centrées réduites indépendantes, puis à le multiplier par $R$ et ajouter $m$ (cf les deux méthodes implémentées question suivante). Nous privilégierons donc la deuxième qui est simplement calculatoire et qui d'un point de vue mathématique ne dit pas grand chose... \n",
    "\\\n",
    "\\\n",
    "\\\n",
    "Lemme: Soient $(X_1,..., X_j)$ j variables aléatoires gaussiennes indépendantes centrées réduites, et $(p_1,..., p_j)$ des pondérations réelles associées. La variable aléatoire $X = \\sum_{i=1}^j p_iX_i$ suit une loi normale centrée d'écart type $\\sigma = \\sum_{i=1}^j p_i^2$. La preuve est très rapide si l'on utilise les fonctions caractéristiques:\n",
    "\\\n",
    "Si Y suit une loi normale centrée réduite, sa fonction caractéristique est $\\Phi_X : x \\rightarrow e^{\\frac{-x^2}{2}}$. Soit a un réel. Par changement de variable, il vient la fonction caractéristique d'une loi normale centrée et d'écart type $a^2$: $\\Phi_{aX}: x \\rightarrow e^{\\frac{-(ax)^2}{2}}$ \n",
    "\\\n",
    "Puis, la fonction caractéristique d'une somme de variables aléatoires indépendantes étant le produit des fonctions caractéristiques de ces variables, on a par identification le résultat. \n",
    "\\\n",
    "Revenons au problème initial: par linéarité, la ième composante de Y suit donc une loi normale de moyenne $m_i$ et d'écart type $\\sum_{j=1}^p r_{i,j}^2$.\n"
   ]
  },
  {
   "cell_type": "markdown",
   "metadata": {},
   "source": [
    "### Question 4"
   ]
  },
  {
   "cell_type": "markdown",
   "metadata": {},
   "source": [
    "Un algorithme de simulation conditionelle pour simuler les $l_{(k)}$ se dégage alors: \n",
    "\\\n",
    "Nous connaissons la matrice de covariance de $Z$. Donc on peut aisément la découper comme dans la question 2, et trouver la loi du vecteur conditionnel des sites inconnus. \n",
    "\\\n",
    "Il s'agit ensuite de la simuler: on peut aisement simuler un vecteur de variables aléatoires indépendantes suivant une loi normale centrée réduite par la méthode de Box-Muller par exemple. Puis, en utilisant la décomposition de Cholesky et la question 3, on pourra finalement simuler ce vecteur conditionel d'espérance et de matrice de covariance connus\\\n",
    "En effet, nous savons que si $X$ est un vecteur gaussien de matrice espérance $m$ et de matrice de covariance définie positive $C$, il existe $A$ une matrice réelle tel que $C = A^tA$ et que si $Y$ est un vecteur gaussien centré réduit de même dimension que $X$, ce dernier suit la même loi que $AY + m$. On retombe donc sur le cas de la question 3.\\\n",
    "Implémentons cette simulation, qui sera necessaire par la suite."
   ]
  },
  {
   "cell_type": "code",
   "execution_count": 32,
   "metadata": {},
   "outputs": [],
   "source": [
    "#simule un vecteur gaussien dont on connait le vecteur espérance et la matrice de covariance\n",
    "import random as rd\n",
    "import numpy as np\n",
    "from math import *\n",
    "\n",
    "\n",
    "###méthode à priori fausse d'après la partie suivante\n",
    "def Box_Muller(m,sigma):          #simule une loi normale d'esperance et d'écart types m et sigma\n",
    "    return sigma*sqrt(-2*log(rd.random()))*cos(2*pi*rd.random()) + m   #rd.random() simule une loi uniforme entre 0 et 1\n",
    "def simul_vect_gaussien2(m, mat_cov):  #m vecteur esperance\n",
    "    n = np.shape(mat_cov)[0]\n",
    "    R = np.linalg.cholesky(mat_cov)\n",
    "    res1 = np.zeros((n,1))\n",
    "    for i in range (n):\n",
    "        sigma = sum([R[i,j]**2 for j in range (n)])\n",
    "        res1[i,0] = Box_Muller(m[i], sigma)\n",
    "    return res1\n",
    "    \n",
    "### méthode utilisée, \"brutale\"\n",
    "def simul_vect_gaussien(m, mat_cov):\n",
    "    R = np.linalg.cholesky(mat_cov)\n",
    "    return m + R.dot(np.random.randn(len(m)))"
   ]
  },
  {
   "cell_type": "markdown",
   "metadata": {},
   "source": [
    "# Implémentation informatique"
   ]
  },
  {
   "cell_type": "code",
   "execution_count": 3,
   "metadata": {},
   "outputs": [],
   "source": [
    "\n",
    "import matplotlib.pyplot as plt"
   ]
  },
  {
   "cell_type": "code",
   "execution_count": 4,
   "metadata": {},
   "outputs": [],
   "source": [
    "mu = -5\n",
    "sigma2 = 12\n",
    "a = 50\n",
    "def C(x):\n",
    "    return sigma2*exp(-abs(x)/a)"
   ]
  },
  {
   "cell_type": "code",
   "execution_count": 5,
   "metadata": {},
   "outputs": [],
   "source": [
    "A = 0\n",
    "B = 500\n",
    "N = 101\n",
    "Delta = (B-A)/(N-1)\n",
    "discretization_indexes = np.arange(N)\n",
    "discretization = discretization_indexes*Delta"
   ]
  },
  {
   "cell_type": "code",
   "execution_count": 6,
   "metadata": {},
   "outputs": [],
   "source": [
    "observation_indexes = [0, 20, 40, 60, 80, 100]\n",
    "depth = np.array([0, -4, -12.8, -1, -6.5, 0])\n",
    "unknown_indexes = list(set(discretization_indexes) - set(observation_indexes))"
   ]
  },
  {
   "cell_type": "markdown",
   "metadata": {},
   "source": [
    "### Question 1"
   ]
  },
  {
   "cell_type": "code",
   "execution_count": 7,
   "metadata": {},
   "outputs": [],
   "source": [
    "def mat_cov(mat_dist, a = 50, sigma2 = 12):\n",
    "    n = np.shape(mat_dist)[0]   #mat_dist carrée, de taille (N+1)*(N+1) mais on garde généralité\n",
    "    res = np.zeros((n, n))\n",
    "    for i in range (n):\n",
    "        for j in range(n):     #on va faire deux fois les mêmes calculs: à améliorer avec transpose numpy\n",
    "            res[i,j] = C(mat_dist[i,j])\n",
    "    return res"
   ]
  },
  {
   "cell_type": "markdown",
   "metadata": {},
   "source": [
    "### Question 2"
   ]
  },
  {
   "cell_type": "code",
   "execution_count": 8,
   "metadata": {},
   "outputs": [
    {
     "name": "stdout",
     "output_type": "stream",
     "text": [
      "[[  0.   5.  10. ... 490. 495. 500.]\n",
      " [  5.   0.   5. ... 485. 490. 495.]\n",
      " [ 10.   5.   0. ... 480. 485. 490.]\n",
      " ...\n",
      " [490. 485. 480. ...   0.   5.  10.]\n",
      " [495. 490. 485. ...   5.   0.   5.]\n",
      " [500. 495. 490. ...  10.   5.   0.]]\n"
     ]
    }
   ],
   "source": [
    "def mat_dist_calc(A = 0, B = 500, N = 101):\n",
    "    Delta = (B-A)/(N-1)\n",
    "    res1 = np.zeros((N,N))\n",
    "    for i in range (N):\n",
    "        for j in range (N):\n",
    "            res1[i,j] = abs((j-i)*Delta)\n",
    "    return res1\n",
    "mat_dist = mat_dist_calc()\n",
    "print(mat_dist)"
   ]
  },
  {
   "cell_type": "markdown",
   "metadata": {},
   "source": [
    "### Question 3"
   ]
  },
  {
   "cell_type": "code",
   "execution_count": 9,
   "metadata": {},
   "outputs": [],
   "source": [
    "def mat_cov_Z(a = 50, sigma2 = 12, A = 0, B = 500, N=101):\n",
    "    return mat_cov(mat_dist_calc(A,B,N), a, sigma2)\n",
    "\n",
    "M_cov_Z = mat_cov_Z()\n"
   ]
  },
  {
   "cell_type": "markdown",
   "metadata": {},
   "source": [
    "### Question 4"
   ]
  },
  {
   "cell_type": "code",
   "execution_count": 10,
   "metadata": {},
   "outputs": [
    {
     "name": "stdout",
     "output_type": "stream",
     "text": [
      "[[1.20000000e+01 1.62402340e+00 2.19787667e-01 2.97450261e-02\n",
      "  4.02555153e-03 5.44799157e-04]\n",
      " [1.62402340e+00 1.20000000e+01 1.62402340e+00 2.19787667e-01\n",
      "  2.97450261e-02 4.02555153e-03]\n",
      " [2.19787667e-01 1.62402340e+00 1.20000000e+01 1.62402340e+00\n",
      "  2.19787667e-01 2.97450261e-02]\n",
      " [2.97450261e-02 2.19787667e-01 1.62402340e+00 1.20000000e+01\n",
      "  1.62402340e+00 2.19787667e-01]\n",
      " [4.02555153e-03 2.97450261e-02 2.19787667e-01 1.62402340e+00\n",
      "  1.20000000e+01 1.62402340e+00]\n",
      " [5.44799157e-04 4.02555153e-03 2.97450261e-02 2.19787667e-01\n",
      "  1.62402340e+00 1.20000000e+01]] [[1.08580490e+01 9.82476904e+00 8.88981865e+00 8.04384055e+00\n",
      "  7.27836792e+00 6.58573963e+00 5.95902365e+00 5.39194757e+00\n",
      "  4.87883592e+00 4.41455329e+00 3.99445300e+00 3.61433054e+00\n",
      "  3.27038152e+00 2.95916357e+00 2.67756192e+00 2.42275822e+00\n",
      "  2.19220229e+00 1.98358666e+00 1.79482343e+00 1.46947714e+00\n",
      "  1.32963790e+00 1.20310612e+00 1.08861544e+00 9.85019983e-01\n",
      "  8.91282939e-01 8.06466153e-01 7.29720752e-01 6.60278641e-01\n",
      "  5.97444820e-01 5.40590429e-01 4.89146448e-01 4.42598009e-01\n",
      "  4.00479240e-01 3.62368601e-01 3.27884669e-01 2.96682318e-01\n",
      "  2.68449262e-01 2.42902937e-01 1.98872105e-01 1.79946922e-01\n",
      "  1.62822708e-01 1.47328079e-01 1.33307958e-01 1.20622029e-01\n",
      "  1.09143325e-01 9.87569646e-02 8.93589969e-02 8.08553640e-02\n",
      "  7.31609588e-02 6.61987730e-02 5.98991269e-02 5.41989713e-02\n",
      "  4.90412573e-02 4.43743646e-02 4.01515855e-02 3.63306569e-02\n",
      "  3.28733378e-02 2.69144126e-02 2.43531676e-02 2.20356573e-02\n",
      "  1.99386873e-02 1.80412703e-02 1.63244165e-02 1.47709428e-02\n",
      "  1.33653018e-02 1.20934251e-02 1.09425836e-02 9.90125908e-03\n",
      "  8.95902970e-03 8.10646530e-03 7.33503313e-03 6.63701244e-03\n",
      "  6.00541720e-03 5.43392619e-03 4.91681975e-03 4.44892249e-03\n",
      "  3.64246966e-03 3.29584284e-03 2.98220193e-03 2.69840789e-03\n",
      "  2.44162043e-03 2.20926952e-03 1.99902973e-03 1.80879690e-03\n",
      "  1.63666712e-03 1.48091765e-03 1.33998970e-03 1.21247282e-03\n",
      "  1.09709078e-03 9.92688787e-04 8.98221959e-04 8.12744838e-04\n",
      "  7.35401941e-04 6.65419193e-04 6.02096185e-04]\n",
      " [1.79482343e+00 1.98358666e+00 2.19220229e+00 2.42275822e+00\n",
      "  2.67756192e+00 2.95916357e+00 3.27038152e+00 3.61433054e+00\n",
      "  3.99445300e+00 4.41455329e+00 4.87883592e+00 5.39194757e+00\n",
      "  5.95902365e+00 6.58573963e+00 7.27836792e+00 8.04384055e+00\n",
      "  8.88981865e+00 9.82476904e+00 1.08580490e+01 1.08580490e+01\n",
      "  9.82476904e+00 8.88981865e+00 8.04384055e+00 7.27836792e+00\n",
      "  6.58573963e+00 5.95902365e+00 5.39194757e+00 4.87883592e+00\n",
      "  4.41455329e+00 3.99445300e+00 3.61433054e+00 3.27038152e+00\n",
      "  2.95916357e+00 2.67756192e+00 2.42275822e+00 2.19220229e+00\n",
      "  1.98358666e+00 1.79482343e+00 1.46947714e+00 1.32963790e+00\n",
      "  1.20310612e+00 1.08861544e+00 9.85019983e-01 8.91282939e-01\n",
      "  8.06466153e-01 7.29720752e-01 6.60278641e-01 5.97444820e-01\n",
      "  5.40590429e-01 4.89146448e-01 4.42598009e-01 4.00479240e-01\n",
      "  3.62368601e-01 3.27884669e-01 2.96682318e-01 2.68449262e-01\n",
      "  2.42902937e-01 1.98872105e-01 1.79946922e-01 1.62822708e-01\n",
      "  1.47328079e-01 1.33307958e-01 1.20622029e-01 1.09143325e-01\n",
      "  9.87569646e-02 8.93589969e-02 8.08553640e-02 7.31609588e-02\n",
      "  6.61987730e-02 5.98991269e-02 5.41989713e-02 4.90412573e-02\n",
      "  4.43743646e-02 4.01515855e-02 3.63306569e-02 3.28733378e-02\n",
      "  2.69144126e-02 2.43531676e-02 2.20356573e-02 1.99386873e-02\n",
      "  1.80412703e-02 1.63244165e-02 1.47709428e-02 1.33653018e-02\n",
      "  1.20934251e-02 1.09425836e-02 9.90125908e-03 8.95902970e-03\n",
      "  8.10646530e-03 7.33503313e-03 6.63701244e-03 6.00541720e-03\n",
      "  5.43392619e-03 4.91681975e-03 4.44892249e-03]\n",
      " [2.42902937e-01 2.68449262e-01 2.96682318e-01 3.27884669e-01\n",
      "  3.62368601e-01 4.00479240e-01 4.42598009e-01 4.89146448e-01\n",
      "  5.40590429e-01 5.97444820e-01 6.60278641e-01 7.29720752e-01\n",
      "  8.06466153e-01 8.91282939e-01 9.85019983e-01 1.08861544e+00\n",
      "  1.20310612e+00 1.32963790e+00 1.46947714e+00 1.79482343e+00\n",
      "  1.98358666e+00 2.19220229e+00 2.42275822e+00 2.67756192e+00\n",
      "  2.95916357e+00 3.27038152e+00 3.61433054e+00 3.99445300e+00\n",
      "  4.41455329e+00 4.87883592e+00 5.39194757e+00 5.95902365e+00\n",
      "  6.58573963e+00 7.27836792e+00 8.04384055e+00 8.88981865e+00\n",
      "  9.82476904e+00 1.08580490e+01 1.08580490e+01 9.82476904e+00\n",
      "  8.88981865e+00 8.04384055e+00 7.27836792e+00 6.58573963e+00\n",
      "  5.95902365e+00 5.39194757e+00 4.87883592e+00 4.41455329e+00\n",
      "  3.99445300e+00 3.61433054e+00 3.27038152e+00 2.95916357e+00\n",
      "  2.67756192e+00 2.42275822e+00 2.19220229e+00 1.98358666e+00\n",
      "  1.79482343e+00 1.46947714e+00 1.32963790e+00 1.20310612e+00\n",
      "  1.08861544e+00 9.85019983e-01 8.91282939e-01 8.06466153e-01\n",
      "  7.29720752e-01 6.60278641e-01 5.97444820e-01 5.40590429e-01\n",
      "  4.89146448e-01 4.42598009e-01 4.00479240e-01 3.62368601e-01\n",
      "  3.27884669e-01 2.96682318e-01 2.68449262e-01 2.42902937e-01\n",
      "  1.98872105e-01 1.79946922e-01 1.62822708e-01 1.47328079e-01\n",
      "  1.33307958e-01 1.20622029e-01 1.09143325e-01 9.87569646e-02\n",
      "  8.93589969e-02 8.08553640e-02 7.31609588e-02 6.61987730e-02\n",
      "  5.98991269e-02 5.41989713e-02 4.90412573e-02 4.43743646e-02\n",
      "  4.01515855e-02 3.63306569e-02 3.28733378e-02]\n",
      " [3.28733378e-02 3.63306569e-02 4.01515855e-02 4.43743646e-02\n",
      "  4.90412573e-02 5.41989713e-02 5.98991269e-02 6.61987730e-02\n",
      "  7.31609588e-02 8.08553640e-02 8.93589969e-02 9.87569646e-02\n",
      "  1.09143325e-01 1.20622029e-01 1.33307958e-01 1.47328079e-01\n",
      "  1.62822708e-01 1.79946922e-01 1.98872105e-01 2.42902937e-01\n",
      "  2.68449262e-01 2.96682318e-01 3.27884669e-01 3.62368601e-01\n",
      "  4.00479240e-01 4.42598009e-01 4.89146448e-01 5.40590429e-01\n",
      "  5.97444820e-01 6.60278641e-01 7.29720752e-01 8.06466153e-01\n",
      "  8.91282939e-01 9.85019983e-01 1.08861544e+00 1.20310612e+00\n",
      "  1.32963790e+00 1.46947714e+00 1.79482343e+00 1.98358666e+00\n",
      "  2.19220229e+00 2.42275822e+00 2.67756192e+00 2.95916357e+00\n",
      "  3.27038152e+00 3.61433054e+00 3.99445300e+00 4.41455329e+00\n",
      "  4.87883592e+00 5.39194757e+00 5.95902365e+00 6.58573963e+00\n",
      "  7.27836792e+00 8.04384055e+00 8.88981865e+00 9.82476904e+00\n",
      "  1.08580490e+01 1.08580490e+01 9.82476904e+00 8.88981865e+00\n",
      "  8.04384055e+00 7.27836792e+00 6.58573963e+00 5.95902365e+00\n",
      "  5.39194757e+00 4.87883592e+00 4.41455329e+00 3.99445300e+00\n",
      "  3.61433054e+00 3.27038152e+00 2.95916357e+00 2.67756192e+00\n",
      "  2.42275822e+00 2.19220229e+00 1.98358666e+00 1.79482343e+00\n",
      "  1.46947714e+00 1.32963790e+00 1.20310612e+00 1.08861544e+00\n",
      "  9.85019983e-01 8.91282939e-01 8.06466153e-01 7.29720752e-01\n",
      "  6.60278641e-01 5.97444820e-01 5.40590429e-01 4.89146448e-01\n",
      "  4.42598009e-01 4.00479240e-01 3.62368601e-01 3.27884669e-01\n",
      "  2.96682318e-01 2.68449262e-01 2.42902937e-01]\n",
      " [4.44892249e-03 4.91681975e-03 5.43392619e-03 6.00541720e-03\n",
      "  6.63701244e-03 7.33503313e-03 8.10646530e-03 8.95902970e-03\n",
      "  9.90125908e-03 1.09425836e-02 1.20934251e-02 1.33653018e-02\n",
      "  1.47709428e-02 1.63244165e-02 1.80412703e-02 1.99386873e-02\n",
      "  2.20356573e-02 2.43531676e-02 2.69144126e-02 3.28733378e-02\n",
      "  3.63306569e-02 4.01515855e-02 4.43743646e-02 4.90412573e-02\n",
      "  5.41989713e-02 5.98991269e-02 6.61987730e-02 7.31609588e-02\n",
      "  8.08553640e-02 8.93589969e-02 9.87569646e-02 1.09143325e-01\n",
      "  1.20622029e-01 1.33307958e-01 1.47328079e-01 1.62822708e-01\n",
      "  1.79946922e-01 1.98872105e-01 2.42902937e-01 2.68449262e-01\n",
      "  2.96682318e-01 3.27884669e-01 3.62368601e-01 4.00479240e-01\n",
      "  4.42598009e-01 4.89146448e-01 5.40590429e-01 5.97444820e-01\n",
      "  6.60278641e-01 7.29720752e-01 8.06466153e-01 8.91282939e-01\n",
      "  9.85019983e-01 1.08861544e+00 1.20310612e+00 1.32963790e+00\n",
      "  1.46947714e+00 1.79482343e+00 1.98358666e+00 2.19220229e+00\n",
      "  2.42275822e+00 2.67756192e+00 2.95916357e+00 3.27038152e+00\n",
      "  3.61433054e+00 3.99445300e+00 4.41455329e+00 4.87883592e+00\n",
      "  5.39194757e+00 5.95902365e+00 6.58573963e+00 7.27836792e+00\n",
      "  8.04384055e+00 8.88981865e+00 9.82476904e+00 1.08580490e+01\n",
      "  1.08580490e+01 9.82476904e+00 8.88981865e+00 8.04384055e+00\n",
      "  7.27836792e+00 6.58573963e+00 5.95902365e+00 5.39194757e+00\n",
      "  4.87883592e+00 4.41455329e+00 3.99445300e+00 3.61433054e+00\n",
      "  3.27038152e+00 2.95916357e+00 2.67756192e+00 2.42275822e+00\n",
      "  2.19220229e+00 1.98358666e+00 1.79482343e+00]\n",
      " [6.02096185e-04 6.65419193e-04 7.35401941e-04 8.12744838e-04\n",
      "  8.98221959e-04 9.92688787e-04 1.09709078e-03 1.21247282e-03\n",
      "  1.33998970e-03 1.48091765e-03 1.63666712e-03 1.80879690e-03\n",
      "  1.99902973e-03 2.20926952e-03 2.44162043e-03 2.69840789e-03\n",
      "  2.98220193e-03 3.29584284e-03 3.64246966e-03 4.44892249e-03\n",
      "  4.91681975e-03 5.43392619e-03 6.00541720e-03 6.63701244e-03\n",
      "  7.33503313e-03 8.10646530e-03 8.95902970e-03 9.90125908e-03\n",
      "  1.09425836e-02 1.20934251e-02 1.33653018e-02 1.47709428e-02\n",
      "  1.63244165e-02 1.80412703e-02 1.99386873e-02 2.20356573e-02\n",
      "  2.43531676e-02 2.69144126e-02 3.28733378e-02 3.63306569e-02\n",
      "  4.01515855e-02 4.43743646e-02 4.90412573e-02 5.41989713e-02\n",
      "  5.98991269e-02 6.61987730e-02 7.31609588e-02 8.08553640e-02\n",
      "  8.93589969e-02 9.87569646e-02 1.09143325e-01 1.20622029e-01\n",
      "  1.33307958e-01 1.47328079e-01 1.62822708e-01 1.79946922e-01\n",
      "  1.98872105e-01 2.42902937e-01 2.68449262e-01 2.96682318e-01\n",
      "  3.27884669e-01 3.62368601e-01 4.00479240e-01 4.42598009e-01\n",
      "  4.89146448e-01 5.40590429e-01 5.97444820e-01 6.60278641e-01\n",
      "  7.29720752e-01 8.06466153e-01 8.91282939e-01 9.85019983e-01\n",
      "  1.08861544e+00 1.20310612e+00 1.32963790e+00 1.46947714e+00\n",
      "  1.79482343e+00 1.98358666e+00 2.19220229e+00 2.42275822e+00\n",
      "  2.67756192e+00 2.95916357e+00 3.27038152e+00 3.61433054e+00\n",
      "  3.99445300e+00 4.41455329e+00 4.87883592e+00 5.39194757e+00\n",
      "  5.95902365e+00 6.58573963e+00 7.27836792e+00 8.04384055e+00\n",
      "  8.88981865e+00 9.82476904e+00 1.08580490e+01]] [[1.20000000e+01 1.08580490e+01 9.82476904e+00 ... 8.12744838e-04\n",
      "  7.35401941e-04 6.65419193e-04]\n",
      " [1.08580490e+01 1.20000000e+01 1.08580490e+01 ... 8.98221959e-04\n",
      "  8.12744838e-04 7.35401941e-04]\n",
      " [9.82476904e+00 1.08580490e+01 1.20000000e+01 ... 9.92688787e-04\n",
      "  8.98221959e-04 8.12744838e-04]\n",
      " ...\n",
      " [8.12744838e-04 8.98221959e-04 9.92688787e-04 ... 1.20000000e+01\n",
      "  1.08580490e+01 9.82476904e+00]\n",
      " [7.35401941e-04 8.12744838e-04 8.98221959e-04 ... 1.08580490e+01\n",
      "  1.20000000e+01 1.08580490e+01]\n",
      " [6.65419193e-04 7.35401941e-04 8.12744838e-04 ... 9.82476904e+00\n",
      "  1.08580490e+01 1.20000000e+01]]\n"
     ]
    }
   ],
   "source": [
    "def sous_matrice( M, Lignes, Colonnes):\n",
    "\n",
    "     #revoie une sous matrice de la matrice M dont les lignes  de la liste Ligne\n",
    "     #et les colonnes de la liste Colonnes sont effacées\n",
    "\n",
    "     Ligne=sorted(Lignes, reverse=True)    #permet de trier la liste dans l'ordre décroissant pour que les indices gardent un sens\n",
    "     Colonne = sorted(Colonnes, reverse=True)\n",
    "     \n",
    "     for elem in Ligne:          #Ainsi nos indices gardent un sens au cours des modifications\n",
    "         M=np.delete(M, (elem), axis=0)   \n",
    "     M=np.transpose(M)\n",
    "        \n",
    "     for elem in Colonne: \n",
    "         M=np.delete(M, (elem), axis=0)\n",
    "         \n",
    "     M = np.transpose(M)\n",
    "     return M\n",
    "\n",
    "# Puis on extrait les sous matrices de covariances souhaitées\n",
    "M_cov_observations=sous_matrice(M_cov_Z, unknown_indexes, unknown_indexes)\n",
    "M_cov_observations_inconnues=sous_matrice(M_cov_Z, unknown_indexes, observation_indexes)\n",
    "M_cov_inconnues=sous_matrice(M_cov_Z, observation_indexes, observation_indexes)\n",
    "print(M_cov_observations, M_cov_observations_inconnues,M_cov_inconnues )\n",
    "\n",
    "### Question 5"
   ]
  },
  {
   "cell_type": "markdown",
   "metadata": {},
   "source": [
    "Nous utilisons là encore les résultats du chapitre IV, qui affirment que, si X est le vecteur des profondeurs inconnues, et Y le vecteur des observations (on reprend les notations de la partie théorique question 2), l'espérance conditionelle $E(X \\vert Y)$ est la variable aléatoire $m_X + \\sum_{X,Y}\\sum_Y^{-1}(Y - m_Y))$"
   ]
  },
  {
   "cell_type": "code",
   "execution_count": 52,
   "metadata": {},
   "outputs": [
    {
     "data": {
      "image/png": "[encoded data removed]",
      "text/plain": [
       "<Figure size 432x288 with 1 Axes>"
      ]
     },
     "metadata": {
      "needs_background": "light"
     },
     "output_type": "display_data"
    },
    {
     "name": "stdout",
     "output_type": "stream",
     "text": [
      "95\n"
     ]
    }
   ],
   "source": [
    "#Dans le cas des données, nous sommes en mesure d'expliciter cette formule théorique:\n",
    "Esperance_conditionnelle=mu+np.transpose(M_cov_observations_inconnues).dot(np.linalg.inv(M_cov_observations)).dot(np.array(depth)-mu)\n",
    "plt.plot(np.array(unknown_indexes)*Delta, Esperance_conditionnelle, \"bo\")\n",
    "plt.plot(np.array(observation_indexes)*Delta, depth, \"ro\")\n",
    "plt.xlabel(\"position\")\n",
    "plt.title(\"espérance conditionnelle des composantes non observées en bleu et observations en rouge\")\n",
    "plt.show()\n",
    "print(len(Esperance_conditionnelle))"
   ]
  },
  {
   "cell_type": "markdown",
   "metadata": {},
   "source": [
    "### Question 6"
   ]
  },
  {
   "cell_type": "markdown",
   "metadata": {},
   "source": [
    "Pour calculer la matrice de covariance conditionelle, nous allons utiliser le complément de Schur et les propriétés associées. On a $\\sum = \\begin{pmatrix}\\sum_X & \\sum_{X,Y} \\\\ \\sum_{Y,X} & \\sum_Y \\end{pmatrix}$ (cf partie th) . La matrice de covariance conditionelle est donnée par la partie théorique:$M_{cov-cond} = \\sum_{X,X} - \\sum_{X,Y}\\sum_{Y,Y}^{-1}\\sum_{Y,X}$. On peut donc calculer cette matrice: "
   ]
  },
  {
   "cell_type": "code",
   "execution_count": 12,
   "metadata": {},
   "outputs": [
    {
     "data": {
      "image/png": "[encoded data removed]",
      "text/plain": [
       "<Figure size 432x288 with 1 Axes>"
      ]
     },
     "metadata": {
      "needs_background": "light"
     },
     "output_type": "display_data"
    }
   ],
   "source": [
    "M_cov_cond = M_cov_inconnues - np.transpose(M_cov_observations_inconnues).dot(np.linalg.inv(M_cov_observations)).dot(M_cov_observations_inconnues)\n",
    "\n",
    "#créons la liste Diagonale_Schur qui contient les termes diagonaux de M_schur\n",
    "Diagonale_cov_cond=[]\n",
    "for i in range(len(M_cov_cond)):\n",
    "    Diagonale_cov_cond.append(M_cov_cond[i][i])\n",
    "\n",
    "#Traçons celle-ci en fonction de la position\n",
    "plt.plot(np.array(unknown_indexes)*Delta, Diagonale_cov_cond)\n",
    "plt.title(\"diagonale de la matrice de variance conditionnelle\")\n",
    "plt.xlabel(\"position\")\n",
    "plt.show()\n",
    "#Plus l'on s'éloigne des mesures plus la variance est élevée car l'incertitude augmente. \n",
    "#Même au voisinage des points de mesure, elle semble atteindre un minimum non nul: \n",
    "#c'est simplement parcequ'il manque le point de mesure lui même. "
   ]
  },
  {
   "cell_type": "markdown",
   "metadata": {},
   "source": [
    "### Question 7"
   ]
  },
  {
   "cell_type": "code",
   "execution_count": 104,
   "metadata": {},
   "outputs": [
    {
     "data": {
      "image/png": "[encoded data removed]",
      "text/plain": [
       "<Figure size 432x288 with 1 Axes>"
      ]
     },
     "metadata": {
      "needs_background": "light"
     },
     "output_type": "display_data"
    }
   ],
   "source": [
    "#utilisons les résultats de la partie théorique, avec comme synthèse la question 4.\n",
    "Esperance_conditionnelle=mu+np.transpose(M_cov_observations_inconnues).dot(np.linalg.inv(M_cov_observations)).dot(np.array(depth)-mu)\n",
    "vect_moy_cond = mu + np.transpose(M_cov_observations_inconnues).dot(np.linalg.inv(M_cov_observations)).dot(depth - mu)\n",
    "Simulation_conditionnelle = simul_vect_gaussien(vect_moy_cond, M_cov_cond)\n",
    "plt.plot(np.array(unknown_indexes)*Delta, Esperance_conditionnelle, \"b+\")\n",
    "plt.plot(np.array(unknown_indexes)*Delta, Simulation_conditionnelle, \"g+\")\n",
    "plt.plot(np.array(observation_indexes)*Delta, depth, \"ro\")\n",
    "    \n",
    "plt.xlabel(\"position\")\n",
    "plt.title(\"espérance conditionnelle  en bleu simulation en vert et observations en rouge\")\n",
    "plt.show()\n",
    "#Pour une seule simulation, on constate que les points simulés sont plus proches de l'espérance au voisinage des mesures,\n",
    "#que lorqusqu'ils sont entre deux mesures: cohérent avec les résultats d la question précédente: la variance (l'incertitude) \n",
    "#augmente quand on s'éloigne des sites d'observation."
   ]
  },
  {
   "cell_type": "code",
   "execution_count": 106,
   "metadata": {
    "scrolled": true
   },
   "outputs": [
    {
     "data": {
      "image/png": "[encoded data removed]",
      "text/plain": [
       "<Figure size 432x288 with 1 Axes>"
      ]
     },
     "metadata": {
      "needs_background": "light"
     },
     "output_type": "display_data"
    }
   ],
   "source": [
    "#cette fois-ci avec 500 simulations\n",
    "\n",
    "\n",
    "for k in range (500):\n",
    "    Simulation_conditionnelle = simul_vect_gaussien(vect_moy_cond, M_cov_cond)\n",
    "    plt.plot(np.array(unknown_indexes)*Delta, Esperance_conditionnelle, \"b+\")\n",
    "    plt.plot(np.array(unknown_indexes)*Delta, Simulation_conditionnelle, \"g+\")\n",
    "    plt.plot(np.array(observation_indexes)*Delta, depth, \"ro\")\n",
    "    \n",
    "\n",
    "plt.xlabel(\"position\")\n",
    "plt.title(\"espérance conditionnelle  en bleu simulation en vert et observations en rouge\")\n",
    "plt.show()\n",
    "#nous observons de belles paraboles qui font écho au tracé de la question précédente."
   ]
  },
  {
   "cell_type": "markdown",
   "metadata": {},
   "source": [
    "### Question 8"
   ]
  },
  {
   "cell_type": "code",
   "execution_count": 25,
   "metadata": {},
   "outputs": [
    {
     "name": "stdout",
     "output_type": "stream",
     "text": [
      "5.0\n"
     ]
    },
    {
     "data": {
      "text/plain": [
       "10.0"
      ]
     },
     "execution_count": 25,
     "metadata": {},
     "output_type": "execute_result"
    }
   ],
   "source": [
    "def lenght_cable(Z,Delta):\n",
    "    \"\"\"\n",
    "    fonction qui calcule la longueur du câble en fonction du vecteur\n",
    "    des profondeurs et du pas de discrétisation\n",
    "    \"\"\"\n",
    "    L=0\n",
    "    for k in range(1,len(Z)):\n",
    "        L+=sqrt(Delta**2+(Z[k]-Z[k-1])**2)\n",
    "    return L\n",
    "\n"
   ]
  },
  {
   "cell_type": "markdown",
   "metadata": {},
   "source": [
    "### Question 9"
   ]
  },
  {
   "cell_type": "code",
   "execution_count": 74,
   "metadata": {},
   "outputs": [
    {
     "name": "stdout",
     "output_type": "stream",
     "text": [
      "L'espérance estimée de la longueur conditionnelle du câble sachant les mesures vaut 522.242514394132 m contre 501.6468416918411 m pour la longueur de l'espérance conditionnelle du cable\n",
      "Avec l'autre méthode de simulation, on a plutôt 946.4739950230838 m ce qui ne concorde absolument pas avec la méthode précédente qui est quasi directe, d'où un raisonnement à priori faux ?\n"
     ]
    }
   ],
   "source": [
    "Esperance_conditionnelle=mu+np.transpose(M_cov_observations_inconnues).dot(np.linalg.inv(M_cov_observations)).dot(np.array(depth)-mu)\n",
    "def calcul_esperance_nb_simul(N):\n",
    "    longueur_tot = 0\n",
    "    for k in range (N):  #pour N simulations\n",
    "        depth_simul = simul_vect_gaussien(vect_moy_cond, M_cov_cond)\n",
    "        for i, observ_index in enumerate (observation_indexes):\n",
    "            depth_simul = np.insert(depth_simul, observ_index, depth[i]) #on ajoute les points d'observation au vecteur de profondeur simulé\n",
    "        longueur_tot += lenght_cable(depth_simul, Delta)\n",
    "    return longueur_tot/N\n",
    "\n",
    "for i, observ_index in enumerate (observation_indexes):\n",
    "    Esperance_conditionnelle = np.insert(Esperance_conditionnelle, observ_index, depth[i])\n",
    "\n",
    "print(f\"L'espérance estimée de la longueur conditionnelle du câble sachant les mesures vaut {calcul_esperance_nb_simul(100)} m contre {lenght_cable(Esperance_conditionnelle, Delta)} m pour la longueur de l'espérance conditionnelle du cable\")\n",
    "\n",
    "### avec l'autre ùméthode de simulation\n",
    "def calcul_esperance_nb_simul_meth2(N):\n",
    "    longueur_tot = 0\n",
    "    for k in range (N):  #pour N simulations\n",
    "        depth_simul = simul_vect_gaussien2(vect_moy_cond, M_cov_cond)\n",
    "        for i, observ_index in enumerate (observation_indexes):\n",
    "            depth_simul = np.insert(depth_simul, observ_index, depth[i]) #on ajoute les points d'observation au vecteur de profondeur simulé\n",
    "        longueur_tot += lenght_cable(depth_simul, Delta)\n",
    "    return longueur_tot/N\n",
    "print(f\"Avec l'autre méthode de simulation, on a plutôt {calcul_esperance_nb_simul_meth2(100)} m ce qui ne concorde absolument pas avec la méthode précédente qui est quasi directe, d'où un raisonnement à priori faux ?\")"
   ]
  },
  {
   "cell_type": "markdown",
   "metadata": {},
   "source": [
    "Pourquoi une telle différence ? \\\n",
    "Une raison mathématique d'abord: la fonction lenght_cable n'est pas linéaire donc la longueur de l'espérance n'est pas necessairement égale à l'espérance estimée de la longueur (le tout sachant les mesures).\\\n",
    "Concrètement, le graph de la question $5$ nous illustre le fait que le chemin espérance est à priori le plus court (où l'un des plus courts pour ne pas se lancer dans une démonstration rigoureuse). Par conséquent, si on fait la moyenne arithémétique de chemins simulés qui sont en général \"moins optimisés\", on a forcément une valeur supérieure.\n"
   ]
  },
  {
   "cell_type": "markdown",
   "metadata": {},
   "source": [
    "### Question 10"
   ]
  },
  {
   "cell_type": "code",
   "execution_count": 107,
   "metadata": {},
   "outputs": [
    {
     "data": {
      "image/png": "[encoded data removed]",
      "text/plain": [
       "<Figure size 432x288 with 1 Axes>"
      ]
     },
     "metadata": {
      "needs_background": "light"
     },
     "output_type": "display_data"
    }
   ],
   "source": [
    "def tracé(N):\n",
    "    X = [k for k in range (1, N+1)] \n",
    "    Y = [calcul_esperance_nb_simul(a) for a in X]\n",
    "    plt.plot(X,Y, 'o')\n",
    "    plt.show()\n",
    "tracé(1000)   \n",
    "#on constate une convergence vers une valeur moyenne à peu près égale à 522.25, mais qui reste assez fluctuantant à l'échelle du décimètre"
   ]
  },
  {
   "cell_type": "markdown",
   "metadata": {},
   "source": [
    "### Question 11"
   ]
  },
  {
   "cell_type": "code",
   "execution_count": 92,
   "metadata": {},
   "outputs": [
    {
     "data": {
      "image/png": "[encoded data removed]",
      "text/plain": [
       "<Figure size 432x288 with 1 Axes>"
      ]
     },
     "metadata": {
      "needs_background": "light"
     },
     "output_type": "display_data"
    }
   ],
   "source": [
    "def histogramme(N):\n",
    "    Liste_valeurs_longueur_cable = [calcul_esperance_nb_simul(a) for a in range (1, N+1)]  #dans les questions suivantes, on refera à chaque fois les 100 simulations pour éviter les effets de bords indésirables, ce ,n'est  pas très long.\n",
    "    plt.hist(Liste_valeurs_longueur_cable, 100)\n",
    "    plt.title('Histogramme des valeurs de longueur du cable')\n",
    "    plt.xlabel('valeurs')\n",
    "    plt.ylabel(\"nombre d'apparitions\")\n",
    "    plt.grid(True)\n",
    "    plt.show()\n",
    "histogramme(100)\n",
    "#les valeurs aberrantes correspondent à des nombres très restreints de simulations qui se comptent sur les doigts. "
   ]
  },
  {
   "cell_type": "markdown",
   "metadata": {},
   "source": [
    "### Question 12"
   ]
  },
  {
   "cell_type": "markdown",
   "metadata": {},
   "source": [
    "On fixe le nombre de simulations à 100.\n",
    "\\\n",
    "Une première méthode grossière pour estimer l'intervalle de confiance à 95% de la longueur du cable consiste simplement, dans le cas $N$ , à effectuer N simulations, estimer la valeur moyenne de cette série, enlever le 5% des mesures les plus éloignées de cette moyenne: on a alors une fourchette de valeurs qui sera une approximation de cet intervalle de confiance.\n"
   ]
  },
  {
   "cell_type": "code",
   "execution_count": 115,
   "metadata": {},
   "outputs": [
    {
     "name": "stdout",
     "output_type": "stream",
     "text": [
      "l'intervalle de confiance à 95% peut être approché par [521.320249064525, 526.9100559637743]\n"
     ]
    }
   ],
   "source": [
    "import statistics as st\n",
    "import operator\n",
    "def interv_confiance_meth1(N):\n",
    "    Liste_valeurs_simulées = [calcul_esperance_nb_simul(a) for a in range (1, N+1)]\n",
    "    nombre_a_enlever = int(0.05*N) + 1 #on arrondit à l'excès, quitte à trop enlever, on passera peut être au dessus des 95% dans cette approximation\n",
    "    moyenne=st.mean(Liste_valeurs_simulées)\n",
    "    liste_ecarts = [(abs(Liste_valeurs_simulées[i]), i) for i in range (N)] #on a à la fois l'écart et la position dans la liste initiale\n",
    "    liste_ecarts.sort(key=operator.itemgetter(0)) #on trie par rapport aux écarts croissants\n",
    "    for k in range (nombre_a_enlever):\n",
    "        del(Liste_valeurs_simulées[liste_ecarts[k][1]]) #on enlève les valeurs les plus éloignées\n",
    "    print(f\"l'intervalle de confiance à 95% peut être approché par {[min(Liste_valeurs_simulées), max(Liste_valeurs_simulées)]}\")\n",
    "    \n",
    "interv_confiance_meth1(100)"
   ]
  },
  {
   "cell_type": "markdown",
   "metadata": {},
   "source": [
    "Une deuxième méthode considérée, qui sera plus grossière si l'on prend un nombre de simulation petit, mais qui sera très performant si $N$ grandit, c'est d'approximer la distribution des longueurs par une loi normale. \\\n",
    "Cette méthode est valide pour $N$ assez grand car la distribution de moyenne empirique tend vers une loi normale par le théorème central limite. A ce stade, estimant la moyenne de cette distribution et son écart type, on peut expliciter l'intervalle de confiance à 95%: $I(N) = [m_N - 1.96\\frac{\\sigma_N}{\\sqrt N}, m_N + 1.96\\frac{\\sigma_N}{\\sqrt N}]$ où $m_N$ est la moyenne empirique (arithmétique) de la distribution observée, et $\\sigma_n$ son écart type "
   ]
  },
  {
   "cell_type": "code",
   "execution_count": 114,
   "metadata": {},
   "outputs": [
    {
     "name": "stdout",
     "output_type": "stream",
     "text": [
      "l'intervalle de confiance à 95% peut être approché par [522.3139668725087, 522.5873513922473]\n"
     ]
    }
   ],
   "source": [
    "\n",
    "def interv_confiance_meth2(N):\n",
    "    Liste_valeurs_simulées = [calcul_esperance_nb_simul(a) for a in range (1, N+1)]\n",
    "    moyenne=st.mean(Liste_valeurs_simulées) #moyenne empirique\n",
    "    equart_type=st.pstdev(Liste_valeurs_simulées) #ecart type\n",
    "    taille_echantillon=len(Liste_valeurs_simulées)\n",
    "    Intervalle_de_confiance=[moyenne-1.96*equart_type/np.sqrt(taille_echantillon), moyenne+2*equart_type/np.sqrt(taille_echantillon)]\n",
    "    print(f\"l'intervalle de confiance à 95% peut être approché par {Intervalle_de_confiance}\")\n",
    "\n",
    "interv_confiance_meth2(100)"
   ]
  },
  {
   "cell_type": "markdown",
   "metadata": {},
   "source": [
    "Nous constatons que la méthode $2$ est beaucoup plus précise que la première: incertitude à la dizaine de centimètre au lieu du mètre. Celà ne va aller qu'en s'améliorant si $N$ augmente."
   ]
  },
  {
   "cell_type": "markdown",
   "metadata": {},
   "source": [
    "### Question 13"
   ]
  },
  {
   "cell_type": "code",
   "execution_count": 100,
   "metadata": {},
   "outputs": [
    {
     "name": "stdout",
     "output_type": "stream",
     "text": [
      "0.02\n",
      "0.02\n"
     ]
    }
   ],
   "source": [
    "def proba_depasser_525(N):\n",
    "    dep = 0\n",
    "    Liste_valeurs_simulées = [calcul_esperance_nb_simul(a) for a in range (1, N+1)]\n",
    "    for mesure in Liste_valeurs_simulées:\n",
    "        if mesure >525:\n",
    "            dep +=1\n",
    "    return dep/N\n",
    "\n",
    "#evidement, l'estimation n'a un sens qu'à partir d'un certain nombre de simulations\n",
    "print(proba_depasser_525(100))"
   ]
  },
  {
   "cell_type": "markdown",
   "metadata": {},
   "source": [
    "### Question 14"
   ]
  },
  {
   "cell_type": "code",
   "execution_count": 101,
   "metadata": {},
   "outputs": [
    {
     "data": {
      "image/png": "[encoded data removed]",
      "text/plain": [
       "<Figure size 432x288 with 1 Axes>"
      ]
     },
     "metadata": {
      "needs_background": "light"
     },
     "output_type": "display_data"
    },
    {
     "name": "stdout",
     "output_type": "stream",
     "text": [
      "l'intervalle de confiance à 95% est [522.0239341997423, 522.8115266438443]\n",
      "l'intervalle de confiance à 95% est [522.415868301199, 522.4516309495694]\n"
     ]
    },
    {
     "data": {
      "text/plain": [
       "0.001"
      ]
     },
     "execution_count": 101,
     "metadata": {},
     "output_type": "execute_result"
    }
   ],
   "source": [
    "##1000 simulations\n",
    "histogramme(1000)\n",
    "interv_confiance_meth1(1000)\n",
    "interv_confiance_meth2(1000)\n",
    "proba_depasser_525(1000)"
   ]
  },
  {
   "cell_type": "markdown",
   "metadata": {},
   "source": [
    "On a les prévisions attendues, à savoir que la méthode gaussienne gagne de la précision, en divisant l'incertitude qui décroit en $\\frac{1}{\\sqrt N}$. De plus, la probabilité de dépasser 525 diminue et la fiabilité du chiffre augmente. La méthode 1 est toujours correcte au mètre près mais pas davantage ce qui est cohérent puisque elle n'a aucune raison de s'améliorer. "
   ]
  },
  {
   "cell_type": "code",
   "execution_count": 116,
   "metadata": {},
   "outputs": [
    {
     "ename": "KeyboardInterrupt",
     "evalue": "",
     "output_type": "error",
     "traceback": [
      "\u001b[1;31m---------------------------------------------------------------------------\u001b[0m",
      "\u001b[1;31mKeyboardInterrupt\u001b[0m                         Traceback (most recent call last)",
      "\u001b[1;32m<ipython-input-116-8d22d3bba62f>\u001b[0m in \u001b[0;36m<module>\u001b[1;34m\u001b[0m\n\u001b[0;32m      1\u001b[0m \u001b[1;31m##10000 simulations\u001b[0m\u001b[1;33m\u001b[0m\u001b[1;33m\u001b[0m\u001b[1;33m\u001b[0m\u001b[0m\n\u001b[1;32m----> 2\u001b[1;33m \u001b[0mhistogramme\u001b[0m\u001b[1;33m(\u001b[0m\u001b[1;36m10000\u001b[0m\u001b[1;33m)\u001b[0m\u001b[1;33m\u001b[0m\u001b[1;33m\u001b[0m\u001b[0m\n\u001b[0m\u001b[0;32m      3\u001b[0m \u001b[0minterv_confiance_meth1\u001b[0m\u001b[1;33m(\u001b[0m\u001b[1;36m10000\u001b[0m\u001b[1;33m)\u001b[0m\u001b[1;33m\u001b[0m\u001b[1;33m\u001b[0m\u001b[0m\n\u001b[0;32m      4\u001b[0m \u001b[0minterv_confiance_meth2\u001b[0m\u001b[1;33m(\u001b[0m\u001b[1;36m10000\u001b[0m\u001b[1;33m)\u001b[0m\u001b[1;33m\u001b[0m\u001b[1;33m\u001b[0m\u001b[0m\n\u001b[0;32m      5\u001b[0m \u001b[0mproba_depasser_525\u001b[0m\u001b[1;33m(\u001b[0m\u001b[1;36m10000\u001b[0m\u001b[1;33m)\u001b[0m\u001b[1;33m\u001b[0m\u001b[1;33m\u001b[0m\u001b[0m\n",
      "\u001b[1;32m<ipython-input-92-71699f3b633a>\u001b[0m in \u001b[0;36mhistogramme\u001b[1;34m(N)\u001b[0m\n\u001b[0;32m      1\u001b[0m \u001b[1;32mdef\u001b[0m \u001b[0mhistogramme\u001b[0m\u001b[1;33m(\u001b[0m\u001b[0mN\u001b[0m\u001b[1;33m)\u001b[0m\u001b[1;33m:\u001b[0m\u001b[1;33m\u001b[0m\u001b[1;33m\u001b[0m\u001b[0m\n\u001b[1;32m----> 2\u001b[1;33m     \u001b[0mListe_valeurs_longueur_cable\u001b[0m \u001b[1;33m=\u001b[0m \u001b[1;33m[\u001b[0m\u001b[0mcalcul_esperance_nb_simul\u001b[0m\u001b[1;33m(\u001b[0m\u001b[0ma\u001b[0m\u001b[1;33m)\u001b[0m \u001b[1;32mfor\u001b[0m \u001b[0ma\u001b[0m \u001b[1;32min\u001b[0m \u001b[0mrange\u001b[0m \u001b[1;33m(\u001b[0m\u001b[1;36m1\u001b[0m\u001b[1;33m,\u001b[0m \u001b[0mN\u001b[0m\u001b[1;33m+\u001b[0m\u001b[1;36m1\u001b[0m\u001b[1;33m)\u001b[0m\u001b[1;33m]\u001b[0m\u001b[1;33m\u001b[0m\u001b[1;33m\u001b[0m\u001b[0m\n\u001b[0m\u001b[0;32m      3\u001b[0m     \u001b[0mplt\u001b[0m\u001b[1;33m.\u001b[0m\u001b[0mhist\u001b[0m\u001b[1;33m(\u001b[0m\u001b[0mListe_valeurs_longueur_cable\u001b[0m\u001b[1;33m,\u001b[0m \u001b[1;36m100\u001b[0m\u001b[1;33m)\u001b[0m\u001b[1;33m\u001b[0m\u001b[1;33m\u001b[0m\u001b[0m\n\u001b[0;32m      4\u001b[0m     \u001b[0mplt\u001b[0m\u001b[1;33m.\u001b[0m\u001b[0mtitle\u001b[0m\u001b[1;33m(\u001b[0m\u001b[1;34m'Histogramme des valeurs de longueur du cable'\u001b[0m\u001b[1;33m)\u001b[0m\u001b[1;33m\u001b[0m\u001b[1;33m\u001b[0m\u001b[0m\n\u001b[0;32m      5\u001b[0m     \u001b[0mplt\u001b[0m\u001b[1;33m.\u001b[0m\u001b[0mxlabel\u001b[0m\u001b[1;33m(\u001b[0m\u001b[1;34m'valeurs'\u001b[0m\u001b[1;33m)\u001b[0m\u001b[1;33m\u001b[0m\u001b[1;33m\u001b[0m\u001b[0m\n",
      "\u001b[1;32m<ipython-input-92-71699f3b633a>\u001b[0m in \u001b[0;36m<listcomp>\u001b[1;34m(.0)\u001b[0m\n\u001b[0;32m      1\u001b[0m \u001b[1;32mdef\u001b[0m \u001b[0mhistogramme\u001b[0m\u001b[1;33m(\u001b[0m\u001b[0mN\u001b[0m\u001b[1;33m)\u001b[0m\u001b[1;33m:\u001b[0m\u001b[1;33m\u001b[0m\u001b[1;33m\u001b[0m\u001b[0m\n\u001b[1;32m----> 2\u001b[1;33m     \u001b[0mListe_valeurs_longueur_cable\u001b[0m \u001b[1;33m=\u001b[0m \u001b[1;33m[\u001b[0m\u001b[0mcalcul_esperance_nb_simul\u001b[0m\u001b[1;33m(\u001b[0m\u001b[0ma\u001b[0m\u001b[1;33m)\u001b[0m \u001b[1;32mfor\u001b[0m \u001b[0ma\u001b[0m \u001b[1;32min\u001b[0m \u001b[0mrange\u001b[0m \u001b[1;33m(\u001b[0m\u001b[1;36m1\u001b[0m\u001b[1;33m,\u001b[0m \u001b[0mN\u001b[0m\u001b[1;33m+\u001b[0m\u001b[1;36m1\u001b[0m\u001b[1;33m)\u001b[0m\u001b[1;33m]\u001b[0m\u001b[1;33m\u001b[0m\u001b[1;33m\u001b[0m\u001b[0m\n\u001b[0m\u001b[0;32m      3\u001b[0m     \u001b[0mplt\u001b[0m\u001b[1;33m.\u001b[0m\u001b[0mhist\u001b[0m\u001b[1;33m(\u001b[0m\u001b[0mListe_valeurs_longueur_cable\u001b[0m\u001b[1;33m,\u001b[0m \u001b[1;36m100\u001b[0m\u001b[1;33m)\u001b[0m\u001b[1;33m\u001b[0m\u001b[1;33m\u001b[0m\u001b[0m\n\u001b[0;32m      4\u001b[0m     \u001b[0mplt\u001b[0m\u001b[1;33m.\u001b[0m\u001b[0mtitle\u001b[0m\u001b[1;33m(\u001b[0m\u001b[1;34m'Histogramme des valeurs de longueur du cable'\u001b[0m\u001b[1;33m)\u001b[0m\u001b[1;33m\u001b[0m\u001b[1;33m\u001b[0m\u001b[0m\n\u001b[0;32m      5\u001b[0m     \u001b[0mplt\u001b[0m\u001b[1;33m.\u001b[0m\u001b[0mxlabel\u001b[0m\u001b[1;33m(\u001b[0m\u001b[1;34m'valeurs'\u001b[0m\u001b[1;33m)\u001b[0m\u001b[1;33m\u001b[0m\u001b[1;33m\u001b[0m\u001b[0m\n",
      "\u001b[1;32m<ipython-input-74-abaab3e774fa>\u001b[0m in \u001b[0;36mcalcul_esperance_nb_simul\u001b[1;34m(N)\u001b[0m\n\u001b[0;32m      3\u001b[0m     \u001b[0mlongueur_tot\u001b[0m \u001b[1;33m=\u001b[0m \u001b[1;36m0\u001b[0m\u001b[1;33m\u001b[0m\u001b[1;33m\u001b[0m\u001b[0m\n\u001b[0;32m      4\u001b[0m     \u001b[1;32mfor\u001b[0m \u001b[0mk\u001b[0m \u001b[1;32min\u001b[0m \u001b[0mrange\u001b[0m \u001b[1;33m(\u001b[0m\u001b[0mN\u001b[0m\u001b[1;33m)\u001b[0m\u001b[1;33m:\u001b[0m  \u001b[1;31m#pour N simulations\u001b[0m\u001b[1;33m\u001b[0m\u001b[1;33m\u001b[0m\u001b[0m\n\u001b[1;32m----> 5\u001b[1;33m         \u001b[0mdepth_simul\u001b[0m \u001b[1;33m=\u001b[0m \u001b[0msimul_vect_gaussien\u001b[0m\u001b[1;33m(\u001b[0m\u001b[0mvect_moy_cond\u001b[0m\u001b[1;33m,\u001b[0m \u001b[0mM_cov_cond\u001b[0m\u001b[1;33m)\u001b[0m\u001b[1;33m\u001b[0m\u001b[1;33m\u001b[0m\u001b[0m\n\u001b[0m\u001b[0;32m      6\u001b[0m         \u001b[1;32mfor\u001b[0m \u001b[0mi\u001b[0m\u001b[1;33m,\u001b[0m \u001b[0mobserv_index\u001b[0m \u001b[1;32min\u001b[0m \u001b[0menumerate\u001b[0m \u001b[1;33m(\u001b[0m\u001b[0mobservation_indexes\u001b[0m\u001b[1;33m)\u001b[0m\u001b[1;33m:\u001b[0m\u001b[1;33m\u001b[0m\u001b[1;33m\u001b[0m\u001b[0m\n\u001b[0;32m      7\u001b[0m             \u001b[0mdepth_simul\u001b[0m \u001b[1;33m=\u001b[0m \u001b[0mnp\u001b[0m\u001b[1;33m.\u001b[0m\u001b[0minsert\u001b[0m\u001b[1;33m(\u001b[0m\u001b[0mdepth_simul\u001b[0m\u001b[1;33m,\u001b[0m \u001b[0mobserv_index\u001b[0m\u001b[1;33m,\u001b[0m \u001b[0mdepth\u001b[0m\u001b[1;33m[\u001b[0m\u001b[0mi\u001b[0m\u001b[1;33m]\u001b[0m\u001b[1;33m)\u001b[0m \u001b[1;31m#on ajoute les points d'observation au vecteur de profondeur simulé\u001b[0m\u001b[1;33m\u001b[0m\u001b[1;33m\u001b[0m\u001b[0m\n",
      "\u001b[1;32m<ipython-input-32-f5a2c699b001>\u001b[0m in \u001b[0;36msimul_vect_gaussien\u001b[1;34m(m, mat_cov)\u001b[0m\n\u001b[0;32m     17\u001b[0m \u001b[1;33m\u001b[0m\u001b[0m\n\u001b[0;32m     18\u001b[0m \u001b[1;32mdef\u001b[0m \u001b[0msimul_vect_gaussien\u001b[0m\u001b[1;33m(\u001b[0m\u001b[0mm\u001b[0m\u001b[1;33m,\u001b[0m \u001b[0mmat_cov\u001b[0m\u001b[1;33m)\u001b[0m\u001b[1;33m:\u001b[0m\u001b[1;33m\u001b[0m\u001b[1;33m\u001b[0m\u001b[0m\n\u001b[1;32m---> 19\u001b[1;33m     \u001b[0mR\u001b[0m \u001b[1;33m=\u001b[0m \u001b[0mnp\u001b[0m\u001b[1;33m.\u001b[0m\u001b[0mlinalg\u001b[0m\u001b[1;33m.\u001b[0m\u001b[0mcholesky\u001b[0m\u001b[1;33m(\u001b[0m\u001b[0mmat_cov\u001b[0m\u001b[1;33m)\u001b[0m\u001b[1;33m\u001b[0m\u001b[1;33m\u001b[0m\u001b[0m\n\u001b[0m\u001b[0;32m     20\u001b[0m     \u001b[1;32mreturn\u001b[0m \u001b[0mm\u001b[0m \u001b[1;33m+\u001b[0m \u001b[0mR\u001b[0m\u001b[1;33m.\u001b[0m\u001b[0mdot\u001b[0m\u001b[1;33m(\u001b[0m\u001b[0mnp\u001b[0m\u001b[1;33m.\u001b[0m\u001b[0mrandom\u001b[0m\u001b[1;33m.\u001b[0m\u001b[0mrandn\u001b[0m\u001b[1;33m(\u001b[0m\u001b[0mlen\u001b[0m\u001b[1;33m(\u001b[0m\u001b[0mm\u001b[0m\u001b[1;33m)\u001b[0m\u001b[1;33m)\u001b[0m\u001b[1;33m)\u001b[0m\u001b[1;33m\u001b[0m\u001b[1;33m\u001b[0m\u001b[0m\n",
      "\u001b[1;32m~\\AppData\\Local\\Continuum\\anaconda3\\lib\\site-packages\\numpy\\linalg\\linalg.py\u001b[0m in \u001b[0;36mcholesky\u001b[1;34m(a)\u001b[0m\n\u001b[0;32m    757\u001b[0m     \u001b[0mt\u001b[0m\u001b[1;33m,\u001b[0m \u001b[0mresult_t\u001b[0m \u001b[1;33m=\u001b[0m \u001b[0m_commonType\u001b[0m\u001b[1;33m(\u001b[0m\u001b[0ma\u001b[0m\u001b[1;33m)\u001b[0m\u001b[1;33m\u001b[0m\u001b[1;33m\u001b[0m\u001b[0m\n\u001b[0;32m    758\u001b[0m     \u001b[0msignature\u001b[0m \u001b[1;33m=\u001b[0m \u001b[1;34m'D->D'\u001b[0m \u001b[1;32mif\u001b[0m \u001b[0misComplexType\u001b[0m\u001b[1;33m(\u001b[0m\u001b[0mt\u001b[0m\u001b[1;33m)\u001b[0m \u001b[1;32melse\u001b[0m \u001b[1;34m'd->d'\u001b[0m\u001b[1;33m\u001b[0m\u001b[1;33m\u001b[0m\u001b[0m\n\u001b[1;32m--> 759\u001b[1;33m     \u001b[0mr\u001b[0m \u001b[1;33m=\u001b[0m \u001b[0mgufunc\u001b[0m\u001b[1;33m(\u001b[0m\u001b[0ma\u001b[0m\u001b[1;33m,\u001b[0m \u001b[0msignature\u001b[0m\u001b[1;33m=\u001b[0m\u001b[0msignature\u001b[0m\u001b[1;33m,\u001b[0m \u001b[0mextobj\u001b[0m\u001b[1;33m=\u001b[0m\u001b[0mextobj\u001b[0m\u001b[1;33m)\u001b[0m\u001b[1;33m\u001b[0m\u001b[1;33m\u001b[0m\u001b[0m\n\u001b[0m\u001b[0;32m    760\u001b[0m     \u001b[1;32mreturn\u001b[0m \u001b[0mwrap\u001b[0m\u001b[1;33m(\u001b[0m\u001b[0mr\u001b[0m\u001b[1;33m.\u001b[0m\u001b[0mastype\u001b[0m\u001b[1;33m(\u001b[0m\u001b[0mresult_t\u001b[0m\u001b[1;33m,\u001b[0m \u001b[0mcopy\u001b[0m\u001b[1;33m=\u001b[0m\u001b[1;32mFalse\u001b[0m\u001b[1;33m)\u001b[0m\u001b[1;33m)\u001b[0m\u001b[1;33m\u001b[0m\u001b[1;33m\u001b[0m\u001b[0m\n\u001b[0;32m    761\u001b[0m \u001b[1;33m\u001b[0m\u001b[0m\n",
      "\u001b[1;31mKeyboardInterrupt\u001b[0m: "
     ]
    }
   ],
   "source": [
    "##10000 simulations     \n",
    "histogramme(10000)\n",
    "interv_confiance_meth1(10000)\n",
    "interv_confiance_meth2(10000)\n",
    "proba_depasser_525(10000)  "
   ]
  }
 ],
 "metadata": {
  "kernelspec": {
   "display_name": "Python 3",
   "language": "python",
   "name": "python3"
  }
 },
 "nbformat": 4,
 "nbformat_minor": 2
}
